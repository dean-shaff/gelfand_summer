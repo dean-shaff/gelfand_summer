{
 "metadata": {
  "name": ""
 },
 "nbformat": 3,
 "nbformat_minor": 0,
 "worksheets": [
  {
   "cells": [
    {
     "cell_type": "code",
     "collapsed": false,
     "input": [
      "import matplotlib.pyplot as plt\n"
     ],
     "language": "python",
     "metadata": {},
     "outputs": [],
     "prompt_number": 2
    },
    {
     "cell_type": "code",
     "collapsed": false,
     "input": [
      "import numpy as np"
     ],
     "language": "python",
     "metadata": {},
     "outputs": [],
     "prompt_number": 3
    },
    {
     "cell_type": "code",
     "collapsed": false,
     "input": [
      "import pyfits"
     ],
     "language": "python",
     "metadata": {},
     "outputs": [],
     "prompt_number": 4
    },
    {
     "cell_type": "code",
     "collapsed": false,
     "input": [
      "import os"
     ],
     "language": "python",
     "metadata": {},
     "outputs": [],
     "prompt_number": 5
    },
    {
     "cell_type": "code",
     "collapsed": false,
     "input": [
      "path_to_gelfand = '/home/dean/gelfand_pwn'\n",
      "os.chdir(path_to_gelfand)\n"
     ],
     "language": "python",
     "metadata": {},
     "outputs": [],
     "prompt_number": 6
    },
    {
     "cell_type": "code",
     "collapsed": false,
     "input": [
      "import subprocess\n",
      "subprocess.call('ls',shell=True)"
     ],
     "language": "python",
     "metadata": {},
     "outputs": [
      {
       "metadata": {},
       "output_type": "pyout",
       "prompt_number": 6,
       "text": [
        "0"
       ]
      }
     ],
     "prompt_number": 6
    },
    {
     "cell_type": "code",
     "collapsed": false,
     "input": [
      "file1 = pyfits.open('modelres.photspec.fits')\n",
      "file2 = pyfits.open('modelres.dyninfo.fits')\n",
      "datadyn = file2[1].data\n",
      "time = np.array(datadyn.field(0)) #time\n",
      "data1 = file1[1].data\n",
      "data2 = file1[2].data\n",
      "freqav = list(data1.field(3)) #average frequency\n",
      "freqav.append(0)\n",
      "freqav = np.array(freqav)\n",
      "lumic1 = list(data2[100]) \n",
      "lumic2 = data2.field(50)\n",
      "plt.figure(1)\n",
      "plt.subplot(211)\n",
      "plt.title(\"random stuff\")\n",
      "plt.plot(freqav,lumic1,'k')\n",
      "plt.ylim([0,10e-16])\n",
      "plt.xlim([0,10e14])\n",
      "plt.subplot(212)\n",
      "plt.plot(time,lumic2,'r')\n",
      "plt.show()"
     ],
     "language": "python",
     "metadata": {},
     "outputs": [],
     "prompt_number": 32
    },
    {
     "cell_type": "code",
     "collapsed": false,
     "input": [
      "filedyn = pyfits.open('modelres.dyninfo.fits')\n"
     ],
     "language": "python",
     "metadata": {},
     "outputs": []
    }
   ],
   "metadata": {}
  }
 ]
}